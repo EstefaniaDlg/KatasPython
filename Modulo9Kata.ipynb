{
 "cells": [
  {
   "cell_type": "markdown",
   "metadata": {},
   "source": [
    "### Ejercicio 1\n",
    "Comienza por crear una función que necesite tres lecturas de combustible y devuelva un informe"
   ]
  },
  {
   "cell_type": "code",
   "execution_count": null,
   "metadata": {},
   "outputs": [],
   "source": [
    "def promedioTanques (tanque1, tanque2, tanque3):\n",
    "    \n",
    "    tanques = (tanque1 + tanque2 + tanque3) / 3\n",
    "    \n",
    "    return f\"\"\"Informe:\n",
    "    \n",
    "    Promedio: {tanques}, Tanque 1: {tanque1}, Tanque 2: {tanque2}, Tanque 3: {tanque3}\n",
    "    \"\"\""
   ]
  },
  {
   "cell_type": "markdown",
   "metadata": {},
   "source": [
    "Llamamos a la función"
   ]
  },
  {
   "cell_type": "code",
   "execution_count": null,
   "metadata": {},
   "outputs": [],
   "source": [
    "print(promedioTanques(150, 300, 900))"
   ]
  },
  {
   "cell_type": "markdown",
   "metadata": {},
   "source": [
    "Función para que el promedio se pueda hacer de forma independiente"
   ]
  },
  {
   "cell_type": "code",
   "execution_count": null,
   "metadata": {},
   "outputs": [],
   "source": [
    "def soloPromedio(todosLosTanques):\n",
    "    \n",
    "    calcular = sum(todosLosTanques)\n",
    "    \n",
    "    a = len(todosLosTanques)\n",
    "    \n",
    "    return calcular / a\n",
    "    \n",
    "    \n",
    "    \n",
    "    \n",
    "    \n",
    "print (\"El promedio es:\")\n",
    "soloPromedio([150, 300, 900])"
   ]
  },
  {
   "cell_type": "markdown",
   "metadata": {},
   "source": []
  },
  {
   "cell_type": "code",
   "execution_count": null,
   "metadata": {},
   "outputs": [],
   "source": [
    "def promedioTanques (tanque1, tanque2, tanque3):\n",
    "    \n",
    "    tanques = {soloPromedio([tanque1, tanque2, tanque3])}\n",
    "    \n",
    "    return f\"\"\"Informe:\n",
    "    \n",
    "    Promedio: {tanques}, Tanque 1: {tanque1}, Tanque 2: {tanque2}, Tanque 3: {tanque3}\n",
    "    \"\"\"\n",
    "print(promedioTanques(150, 300, 900))"
   ]
  },
  {
   "cell_type": "markdown",
   "metadata": {},
   "source": [
    "# Ejercicio 2\n",
    "En este ejercicio, construirás un informe de cohete que requiere varias piezas de información, como el tiempo hasta el destino, el combustible a la izquierda y el nombre del destino. Comienza por crear una función que creará un informe preciso de la misión"
   ]
  },
  {
   "cell_type": "code",
   "execution_count": null,
   "metadata": {},
   "outputs": [],
   "source": [
    "def reporte2(preLanzamiento, tiempoVuelo, planeta, tanque1, tanque2, tanque3):\n",
    "    return f\"\"\"\n",
    "    Rumbo a: {planeta}\n",
    "    Tiempo de la mision: {preLanzamiento + tiempoVuelo} min\n",
    "    Combustible: {tanque1 + tanque2 + tanque3} litros\n",
    "    \"\"\"\n",
    "\n",
    "print(reporte2(25, 50, \"Marte\", 800, 1600, 3200))"
   ]
  },
  {
   "cell_type": "code",
   "execution_count": null,
   "metadata": {},
   "outputs": [],
   "source": [
    "def reporte2(planeta, *minutos, **reserva):\n",
    "    return f\"\"\"\n",
    "    Rumbo a: {planeta}\n",
    "    Tiempo de la mision: {sum(minutos)} min\n",
    "    Combustible: {sum(reserva.values())}\n",
    "    \"\"\"\n",
    "\n",
    "print(reporte2(\"Luna\", 5, 15, 90, tanque1 = 800, tanque2 = 1600, tanque3 = 3200))"
   ]
  },
  {
   "cell_type": "code",
   "execution_count": null,
   "metadata": {},
   "outputs": [],
   "source": [
    "def reporte2(planeta, *minutos, **reserva):\n",
    "    mision = f\"\"\"\n",
    "    Rumbo a: {planeta}\n",
    "    Tiempo de la mision: {sum(minutos)} min\n",
    "    Combustible: {sum(reserva.values())}\n",
    "    \"\"\"\n",
    "    for tanque, litros in reserva.items():\n",
    "        mision += f\"{tanque}, {litros} litros\\n\"\n",
    "    return mision\n",
    "\n",
    "print (reporte2(\"Luna\", 5, 15, 90, tanque1 = 800, tanque2 = 1600, tanque3 = 3200))"
   ]
  }
 ],
 "metadata": {
  "interpreter": {
   "hash": "de06737abe10039fee3f86030339f60f144e5047a6232776eb2efcf10af3675e"
  },
  "kernelspec": {
   "display_name": "Python 3.9.10 64-bit (windows store)",
   "language": "python",
   "name": "python3"
  },
  "language_info": {
   "codemirror_mode": {
    "name": "ipython",
    "version": 3
   },
   "file_extension": ".py",
   "mimetype": "text/x-python",
   "name": "python",
   "nbconvert_exporter": "python",
   "pygments_lexer": "ipython3",
   "version": "3.9.10"
  },
  "orig_nbformat": 4
 },
 "nbformat": 4,
 "nbformat_minor": 2
}
